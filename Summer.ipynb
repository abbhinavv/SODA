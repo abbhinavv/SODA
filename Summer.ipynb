{
 "cells": [
  {
   "cell_type": "markdown",
   "metadata": {},
   "source": [
    "# Summer Olympics Data Analysis Assignment"
   ]
  },
  {
   "cell_type": "markdown",
   "metadata": {},
   "source": [
    "## Importing Pandas for reading csv file\n"
   ]
  },
  {
   "cell_type": "code",
   "execution_count": null,
   "metadata": {},
   "outputs": [],
   "source": [
    "import pandas as pd\n",
    "df = pd.read_csv(\"summer.csv\")\n",
    "df.head()                                   # Viewing first 5 rows for reference."
   ]
  },
  {
   "cell_type": "markdown",
   "metadata": {},
   "source": [
    "### 1. In how many cities Summer Olympics is held so far?"
   ]
  },
  {
   "cell_type": "code",
   "execution_count": null,
   "metadata": {},
   "outputs": [],
   "source": [
    "len(df['City'].unique())               # Finding unique cities where olympic held and then counting them. "
   ]
  },
  {
   "cell_type": "markdown",
   "metadata": {},
   "source": [
    "### 2. Which sport is having most number of Gold Medals so far? (Top 5)"
   ]
  },
  {
   "cell_type": "code",
   "execution_count": null,
   "metadata": {},
   "outputs": [],
   "source": [
    "# Selecting a dataframe where medals are Gold and counting no. of medals for that particular sport and then plotting the bar graph.\n",
    "\n",
    "df[df['Medal'] == 'Gold'].groupby('Sport').count().head()['Medal'].sort_values(ascending = False).plot.bar(figsize = (5,5))"
   ]
  },
  {
   "cell_type": "markdown",
   "metadata": {},
   "source": [
    "### 3. Which sport is having most number of medals so far? (Top 5)"
   ]
  },
  {
   "cell_type": "code",
   "execution_count": null,
   "metadata": {},
   "outputs": [],
   "source": [
    "# Selecting dataframe to count frequency of medal for a particular sport.\n",
    "\n",
    "df.groupby('Sport').count().head()['Medal'].sort_values(ascending = False).plot.bar(figsize = (5,5))"
   ]
  },
  {
   "cell_type": "markdown",
   "metadata": {},
   "source": [
    "### 4. Which player has won most number of medals? (Top 5)"
   ]
  },
  {
   "cell_type": "code",
   "execution_count": null,
   "metadata": {},
   "outputs": [],
   "source": [
    "# Storing list of [player_name,player_medals] for each player from main csv dataset file and then converting it into a dataframe and then plotting it. \n",
    "\n",
    "data = []\n",
    "\n",
    "for player in df['Athlete'].unique():\n",
    "    data.append([player , len(df[df['Athlete']  == player])])\n",
    "\n",
    "\n",
    "pd.DataFrame(data,columns = ['Athlete','freq']).sort_values(by = 'freq', ascending=False).head().plot(x = 'Athlete', y = 'freq', kind = 'bar', figsize = (5,5))"
   ]
  },
  {
   "cell_type": "markdown",
   "metadata": {},
   "source": [
    "### 5. Which player has won most number Gold Medals of medals? (Top 5)"
   ]
  },
  {
   "cell_type": "code",
   "execution_count": null,
   "metadata": {},
   "outputs": [],
   "source": [
    "# Storing list of [player_name,player_medals] for each player from a dataframe where players won gold medal, and then converting it into a dataframe and then plotting it. \n",
    " \n",
    "\n",
    "data = []\n",
    "\n",
    "df2 = df[df['Medal'] == 'Gold']\n",
    "\n",
    "for player in df2['Athlete'].unique():\n",
    "    data.append([player , len(df2[df2['Athlete']  == player])])\n",
    "\n",
    "\n",
    "pd.DataFrame(data,columns = ['Athlete','freq']).sort_values(by = 'freq' ,ascending=False).head().plot.bar(x = 'Athlete' , y = 'freq')"
   ]
  },
  {
   "cell_type": "markdown",
   "metadata": {},
   "source": [
    "### 6. In which year India won first Gold Medal in Summer Olympics?"
   ]
  },
  {
   "cell_type": "code",
   "execution_count": null,
   "metadata": {},
   "outputs": [],
   "source": [
    "df3 = df[df['Country'] == 'IND']    # df3 is dataframe consisting of players from country IND derived from df.\n",
    "\n",
    "df4 = df3[df3['Medal'] == 'Gold']   # df4 is dataframe consisting of players who won Gold medal  derived from df3.\n",
    "\n",
    "df4[\"Year\"].min()                   # finding min. year from df4 dataframe when india first won gold medal"
   ]
  },
  {
   "cell_type": "markdown",
   "metadata": {},
   "source": [
    "### 7. Which event is most popular in terms on number of players? (Top 5)"
   ]
  },
  {
   "cell_type": "code",
   "execution_count": null,
   "metadata": {},
   "outputs": [],
   "source": [
    "# Storing list of [event_name,event_freq] most played from main csv dataset file and then converting it into a dataframe and then plotting it. \n",
    "\n",
    "\n",
    "popular_event = []\n",
    "\n",
    "for event in df['Discipline'].unique():\n",
    "    popular_event.append([event,len(df[df['Discipline'] == event])])\n",
    "    \n",
    "pd.DataFrame(popular_event,columns = ['Discipline' , 'freq']).sort_values(by = 'freq' , ascending = False).head().plot.bar(x = \"Discipline\" , y = 'freq' )   "
   ]
  },
  {
   "cell_type": "markdown",
   "metadata": {},
   "source": [
    "### 8. Which sport is having most female Gold Medalists? (Top 5)"
   ]
  },
  {
   "cell_type": "code",
   "execution_count": null,
   "metadata": {},
   "outputs": [],
   "source": [
    "# df6 is a dataframe where there are female candidates derived from df and then plotting graph of [sport,no_of_gold_medals_won] by them. \n",
    "\n",
    "df6 = df[df['Gender'] == 'Women']\n",
    "\n",
    "df6[df6['Medal'] == 'Gold'].groupby('Sport').count().head()['Medal'].sort_values(ascending = False).plot.bar(figsize = (5,5))"
   ]
  }
 ],
 "metadata": {
  "kernelspec": {
   "display_name": "Python 3",
   "language": "python",
   "name": "python3"
  },
  "language_info": {
   "codemirror_mode": {
    "name": "ipython",
    "version": 3
   },
   "file_extension": ".py",
   "mimetype": "text/x-python",
   "name": "python",
   "nbconvert_exporter": "python",
   "pygments_lexer": "ipython3",
   "version": "3.8.8"
  }
 },
 "nbformat": 4,
 "nbformat_minor": 2
}
